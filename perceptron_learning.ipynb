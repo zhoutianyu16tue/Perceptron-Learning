{
 "cells": [
  {
   "cell_type": "code",
   "execution_count": 161,
   "id": "anticipated-hanging",
   "metadata": {},
   "outputs": [],
   "source": [
    "from sklearn.datasets import make_classification\n",
    "import matplotlib.pyplot as plt\n",
    "import numpy as np\n",
    "import time\n",
    "from sklearn.model_selection import train_test_split"
   ]
  },
  {
   "cell_type": "code",
   "execution_count": 37,
   "id": "perceived-species",
   "metadata": {},
   "outputs": [],
   "source": [
    "class Perceptron:\n",
    "    \n",
    "    def __init__(self, n_epoch=10):\n",
    "        self.n_epoch = n_epoch\n",
    "    \n",
    "    def fit(self, X, y, debug=False):\n",
    "        \n",
    "        num_samples, num_features = X.shape\n",
    "        w = np.random.rand(num_features+1)\n",
    "        X_train = np.concatenate((np.ones((num_samples, 1)), X), axis=1)\n",
    "        y_train = np.sign(y - 0.5)\n",
    "#         print(self.n_epoch, num_samples)\n",
    "#         print(w)\n",
    "        \n",
    "        for epoch in range(self.n_epoch):\n",
    "            \n",
    "            acc_before = np.sum(np.sign(X_train.dot(w)) == y_train) / num_samples\n",
    "            for i in range(num_samples):\n",
    "                         \n",
    "                if np.sign(w.dot(X_train[i])) == y_train[i]:\n",
    "                    # correctly classified\n",
    "                    continue\n",
    "\n",
    "                if y_train[i] > 0:\n",
    "                    w += X_train[i]\n",
    "                else:\n",
    "                    w -= X_train[i]\n",
    "            \n",
    "            acc_after = np.sum(np.sign(X_train.dot(w)) == y_train) / num_samples\n",
    "            \n",
    "            if debug:\n",
    "                print(\"> epoch :%2d, acc_before: %0.4f, acc_after: %0.4f\" % (epoch, acc_before, acc_after))\n",
    "        self.weights = w\n",
    "        \n",
    "    def predict(self, X):\n",
    "        X_ = np.concatenate((np.ones((X.shape[0], 1)), X), axis=1)\n",
    "        \n",
    "        return np.sign(X_.dot(self.weights))"
   ]
  },
  {
   "cell_type": "code",
   "execution_count": 106,
   "id": "historic-tackle",
   "metadata": {},
   "outputs": [],
   "source": [
    "num_samples = 1000\n",
    "num_features = 2"
   ]
  },
  {
   "cell_type": "code",
   "execution_count": 213,
   "id": "super-stations",
   "metadata": {},
   "outputs": [],
   "source": [
    "X, y = make_classification(n_samples=num_samples, \\\n",
    "                           n_features=num_features, \\\n",
    "                           n_informative=num_features, \\\n",
    "                           n_redundant=0, \\\n",
    "                           class_sep=2., \\\n",
    "                           n_clusters_per_class=1, \\\n",
    "                           random_state=int(time.time()))"
   ]
  },
  {
   "cell_type": "code",
   "execution_count": 214,
   "id": "overall-evaluation",
   "metadata": {},
   "outputs": [],
   "source": [
    "X_train, X_test, y_train, y_test = train_test_split(X, y, test_size=0.2, random_state=int(time.time()))"
   ]
  },
  {
   "cell_type": "code",
   "execution_count": 215,
   "id": "capital-proxy",
   "metadata": {},
   "outputs": [],
   "source": [
    "clf = Perceptron(n_epoch=100)"
   ]
  },
  {
   "cell_type": "code",
   "execution_count": 216,
   "id": "future-freeze",
   "metadata": {
    "scrolled": true
   },
   "outputs": [
    {
     "name": "stdout",
     "output_type": "stream",
     "text": [
      "> epoch : 0, acc_before: 0.0312, acc_after: 0.9925\n",
      "> epoch : 1, acc_before: 0.9925, acc_after: 0.9938\n",
      "> epoch : 2, acc_before: 0.9938, acc_after: 0.9925\n",
      "> epoch : 3, acc_before: 0.9925, acc_after: 0.9925\n",
      "> epoch : 4, acc_before: 0.9925, acc_after: 0.9925\n",
      "> epoch : 5, acc_before: 0.9925, acc_after: 0.9925\n",
      "> epoch : 6, acc_before: 0.9925, acc_after: 0.9925\n",
      "> epoch : 7, acc_before: 0.9925, acc_after: 0.9912\n",
      "> epoch : 8, acc_before: 0.9912, acc_after: 0.9938\n",
      "> epoch : 9, acc_before: 0.9938, acc_after: 0.9938\n",
      "> epoch :10, acc_before: 0.9938, acc_after: 0.9925\n",
      "> epoch :11, acc_before: 0.9925, acc_after: 0.9925\n",
      "> epoch :12, acc_before: 0.9925, acc_after: 0.9925\n",
      "> epoch :13, acc_before: 0.9925, acc_after: 0.9925\n",
      "> epoch :14, acc_before: 0.9925, acc_after: 0.9938\n",
      "> epoch :15, acc_before: 0.9938, acc_after: 0.9938\n",
      "> epoch :16, acc_before: 0.9938, acc_after: 0.9925\n",
      "> epoch :17, acc_before: 0.9925, acc_after: 0.9938\n",
      "> epoch :18, acc_before: 0.9938, acc_after: 0.9925\n",
      "> epoch :19, acc_before: 0.9925, acc_after: 0.9938\n",
      "> epoch :20, acc_before: 0.9938, acc_after: 0.9938\n",
      "> epoch :21, acc_before: 0.9938, acc_after: 0.9938\n",
      "> epoch :22, acc_before: 0.9938, acc_after: 0.9938\n",
      "> epoch :23, acc_before: 0.9938, acc_after: 0.9925\n",
      "> epoch :24, acc_before: 0.9925, acc_after: 0.9938\n",
      "> epoch :25, acc_before: 0.9938, acc_after: 0.9938\n",
      "> epoch :26, acc_before: 0.9938, acc_after: 0.9938\n",
      "> epoch :27, acc_before: 0.9938, acc_after: 0.9938\n",
      "> epoch :28, acc_before: 0.9938, acc_after: 0.9938\n",
      "> epoch :29, acc_before: 0.9938, acc_after: 0.9938\n",
      "> epoch :30, acc_before: 0.9938, acc_after: 0.9925\n",
      "> epoch :31, acc_before: 0.9925, acc_after: 0.9912\n",
      "> epoch :32, acc_before: 0.9912, acc_after: 0.9938\n",
      "> epoch :33, acc_before: 0.9938, acc_after: 0.9938\n",
      "> epoch :34, acc_before: 0.9938, acc_after: 0.9938\n",
      "> epoch :35, acc_before: 0.9938, acc_after: 0.9888\n",
      "> epoch :36, acc_before: 0.9888, acc_after: 0.9925\n",
      "> epoch :37, acc_before: 0.9925, acc_after: 0.9938\n",
      "> epoch :38, acc_before: 0.9938, acc_after: 0.9925\n",
      "> epoch :39, acc_before: 0.9925, acc_after: 0.9925\n",
      "> epoch :40, acc_before: 0.9925, acc_after: 0.9925\n",
      "> epoch :41, acc_before: 0.9925, acc_after: 0.9912\n",
      "> epoch :42, acc_before: 0.9912, acc_after: 0.9938\n",
      "> epoch :43, acc_before: 0.9938, acc_after: 0.9938\n",
      "> epoch :44, acc_before: 0.9938, acc_after: 0.9925\n",
      "> epoch :45, acc_before: 0.9925, acc_after: 0.9925\n",
      "> epoch :46, acc_before: 0.9925, acc_after: 0.9925\n",
      "> epoch :47, acc_before: 0.9925, acc_after: 0.9912\n",
      "> epoch :48, acc_before: 0.9912, acc_after: 0.9938\n",
      "> epoch :49, acc_before: 0.9938, acc_after: 0.9925\n",
      "> epoch :50, acc_before: 0.9925, acc_after: 0.9925\n",
      "> epoch :51, acc_before: 0.9925, acc_after: 0.9925\n",
      "> epoch :52, acc_before: 0.9925, acc_after: 0.9912\n",
      "> epoch :53, acc_before: 0.9912, acc_after: 0.9938\n",
      "> epoch :54, acc_before: 0.9938, acc_after: 0.9925\n",
      "> epoch :55, acc_before: 0.9925, acc_after: 0.9925\n",
      "> epoch :56, acc_before: 0.9925, acc_after: 0.9925\n",
      "> epoch :57, acc_before: 0.9925, acc_after: 0.9925\n",
      "> epoch :58, acc_before: 0.9925, acc_after: 0.9912\n",
      "> epoch :59, acc_before: 0.9912, acc_after: 0.9938\n",
      "> epoch :60, acc_before: 0.9938, acc_after: 0.9925\n",
      "> epoch :61, acc_before: 0.9925, acc_after: 0.9925\n",
      "> epoch :62, acc_before: 0.9925, acc_after: 0.9925\n",
      "> epoch :63, acc_before: 0.9925, acc_after: 0.9912\n",
      "> epoch :64, acc_before: 0.9912, acc_after: 0.9938\n",
      "> epoch :65, acc_before: 0.9938, acc_after: 0.9925\n",
      "> epoch :66, acc_before: 0.9925, acc_after: 0.9925\n",
      "> epoch :67, acc_before: 0.9925, acc_after: 0.9925\n",
      "> epoch :68, acc_before: 0.9925, acc_after: 0.9925\n",
      "> epoch :69, acc_before: 0.9925, acc_after: 0.9912\n",
      "> epoch :70, acc_before: 0.9912, acc_after: 0.9950\n",
      "> epoch :71, acc_before: 0.9950, acc_after: 0.9925\n",
      "> epoch :72, acc_before: 0.9925, acc_after: 0.9938\n",
      "> epoch :73, acc_before: 0.9938, acc_after: 0.9938\n",
      "> epoch :74, acc_before: 0.9938, acc_after: 0.9938\n",
      "> epoch :75, acc_before: 0.9938, acc_after: 0.9938\n",
      "> epoch :76, acc_before: 0.9938, acc_after: 0.9925\n",
      "> epoch :77, acc_before: 0.9925, acc_after: 0.9938\n",
      "> epoch :78, acc_before: 0.9938, acc_after: 0.9938\n",
      "> epoch :79, acc_before: 0.9938, acc_after: 0.9938\n",
      "> epoch :80, acc_before: 0.9938, acc_after: 0.9925\n",
      "> epoch :81, acc_before: 0.9925, acc_after: 0.9925\n",
      "> epoch :82, acc_before: 0.9925, acc_after: 0.9900\n",
      "> epoch :83, acc_before: 0.9900, acc_after: 0.9938\n",
      "> epoch :84, acc_before: 0.9938, acc_after: 0.9938\n",
      "> epoch :85, acc_before: 0.9938, acc_after: 0.9925\n",
      "> epoch :86, acc_before: 0.9925, acc_after: 0.9925\n",
      "> epoch :87, acc_before: 0.9925, acc_after: 0.9925\n",
      "> epoch :88, acc_before: 0.9925, acc_after: 0.9938\n",
      "> epoch :89, acc_before: 0.9938, acc_after: 0.9938\n",
      "> epoch :90, acc_before: 0.9938, acc_after: 0.9925\n",
      "> epoch :91, acc_before: 0.9925, acc_after: 0.9912\n",
      "> epoch :92, acc_before: 0.9912, acc_after: 0.9938\n",
      "> epoch :93, acc_before: 0.9938, acc_after: 0.9938\n",
      "> epoch :94, acc_before: 0.9938, acc_after: 0.9938\n",
      "> epoch :95, acc_before: 0.9938, acc_after: 0.9938\n",
      "> epoch :96, acc_before: 0.9938, acc_after: 0.9925\n",
      "> epoch :97, acc_before: 0.9925, acc_after: 0.9912\n",
      "> epoch :98, acc_before: 0.9912, acc_after: 0.9938\n",
      "> epoch :99, acc_before: 0.9938, acc_after: 0.9938\n"
     ]
    }
   ],
   "source": [
    "clf.fit(X_train, y_train, debug=True)"
   ]
  },
  {
   "cell_type": "code",
   "execution_count": 217,
   "id": "amber-distributor",
   "metadata": {},
   "outputs": [],
   "source": [
    "def get_x2_by_x1(x1, weights):\n",
    "    \n",
    "    return (-weights[0] - weights[1]*x1) / weights[2]"
   ]
  },
  {
   "cell_type": "code",
   "execution_count": 223,
   "id": "recent-gasoline",
   "metadata": {},
   "outputs": [],
   "source": [
    "p1x1 = -3\n",
    "p2x1 = 2\n",
    "p1 = [p1x1, get_x2_by_x1(p1x1, clf.weights)]\n",
    "p2 = [p2x1, get_x2_by_x1(p2x1, clf.weights)]"
   ]
  },
  {
   "cell_type": "code",
   "execution_count": 224,
   "id": "spiritual-weather",
   "metadata": {},
   "outputs": [
    {
     "data": {
      "text/plain": [
       "[<matplotlib.lines.Line2D at 0x7f4e17394fd0>]"
      ]
     },
     "execution_count": 224,
     "metadata": {},
     "output_type": "execute_result"
    },
    {
     "data": {
      "image/png": "[encoded data removed]",
      "text/plain": [
       "<Figure size 432x288 with 1 Axes>"
      ]
     },
     "metadata": {
      "needs_background": "light"
     },
     "output_type": "display_data"
    }
   ],
   "source": [
    "# plt.scatter(X_train[:, 0], X_train[:, 1], c=y_train)\n",
    "plt.scatter(X_test[:, 0], X_test[:, 1], c=y_test)\n",
    "plt.plot([p1[0], p2[0]], [p1[1], p2[1]], color=\"r\")"
   ]
  },
  {
   "cell_type": "code",
   "execution_count": null,
   "id": "patient-convert",
   "metadata": {},
   "outputs": [],
   "source": []
  }
 ],
 "metadata": {
  "kernelspec": {
   "display_name": "Python 3",
   "language": "python",
   "name": "python3"
  },
  "language_info": {
   "codemirror_mode": {
    "name": "ipython",
    "version": 3
   },
   "file_extension": ".py",
   "mimetype": "text/x-python",
   "name": "python",
   "nbconvert_exporter": "python",
   "pygments_lexer": "ipython3",
   "version": "3.7.5"
  }
 },
 "nbformat": 4,
 "nbformat_minor": 5
}
